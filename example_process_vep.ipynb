{
 "cells": [
  {
   "cell_type": "markdown",
   "metadata": {},
   "source": [
    "# Example code to apply the modular splicing model"
   ]
  },
  {
   "cell_type": "markdown",
   "metadata": {},
   "source": [
    "Example test variants come from ClinVar BRCA1 variants"
   ]
  },
  {
   "cell_type": "markdown",
   "metadata": {},
   "source": [
    "## Splicing delta PSI prediction"
   ]
  },
  {
   "cell_type": "code",
   "execution_count": 1,
   "metadata": {},
   "outputs": [
    {
     "name": "stderr",
     "output_type": "stream",
     "text": [
      "Using TensorFlow backend.\n",
      "/opt/modules/i12g/anaconda/3-5.0.1/envs/splicing/lib/python3.6/site-packages/keras/engine/saving.py:270: UserWarning: No training configuration found in save file: the model was *not* compiled. Compile it manually.\n",
      "  warnings.warn('No training configuration found in save file: '\n"
     ]
    }
   ],
   "source": [
    "from mmsplice.vcf_dataloader import SplicingVCFDataloader\n",
    "from mmsplice import MMSplice, predict_all_table\n",
    "\n",
    "from mmsplice.utils import max_varEff"
   ]
  },
  {
   "cell_type": "code",
   "execution_count": 2,
   "metadata": {},
   "outputs": [],
   "source": [
    "gtf = '../tests/data/test.gtf'\n",
    "vcf = '../tests/data/test.vcf.gz'\n",
    "fasta = '../tests/data/hg19.nochr.chr17.fa'\n",
    "gtfIntervalTree = '../tests/data/test.pkl' # pickle exon interval Tree"
   ]
  },
  {
   "cell_type": "code",
   "execution_count": 3,
   "metadata": {},
   "outputs": [],
   "source": [
    "dl = SplicingVCFDataloader(gtfIntervalTree, \n",
    "                          fasta,\n",
    "                          vcf,\n",
    "                          out_file=gtfIntervalTree,\n",
    "                          split_seq=False, overhang=(50,10))"
   ]
  },
  {
   "cell_type": "code",
   "execution_count": 4,
   "metadata": {},
   "outputs": [
    {
     "data": {
      "text/plain": [
       "{'inputs': {'seq': 'TCCAGGAGAATGAATTGACACTAATCTCTGCTTGTGTTCTCTGTCTCCAGCAATTGGGCAGATGTGTGAGGCACCTGTGGTGACCCGAGAGTGGGTGTTGGACAGTGTAGCACTCTACCAGTGCCAGGAGCTGGACACCTACCTGATACCCCAGATCCCCCACAGCCACTACTGACTGCAGCCAGCCACAGGTACAGAGCCACAGGACCCCAAGAATGAGCTTACAAAGTGGCCTTTCCAGGCCCTGGGAGCTCCTCTCACTCTTCAGTCCTTCTACTGTCCTGGCTACTAAATATTTTA',\n",
       "  'intronl_len': 50,\n",
       "  'intronr_len': 10},\n",
       " 'inputs_mut': {'seq': 'TCCAGGAGAATGAATTGACACTAATCTCTGCTTGTGTTCTCTGTCTCCAGCAATTGTGTGAGGCACCTGTGGTGACCCGAGAGTGGGTGTTGGACAGTGTAGCACTCTACCAGTGCCAGGAGCTGGACACCTACCTGATACCCCAGATCCCCCACAGCCACTACTGACTGCAGCCAGCCACAGGTACAGAGCCACAGGACCCCAAGAATGAGCTTACAAAGTGGCCTTTCCAGGCCCTGGGAGCTCCTCTCACTCTTCAGTCCTTCTACTGTCCTGGCTACTAAATATTTTA',\n",
       "  'intronl_len': 50,\n",
       "  'intronr_len': 10},\n",
       " 'metadata': {'ranges': GenomicRanges(chr='17', start=41197570, end=41197869, id='ENST00000586385', strand='-'),\n",
       "  'variant': {'CHROM': '17',\n",
       "   'POS': 41197805,\n",
       "   'ID': '182075',\n",
       "   'REF': 'ACATCTGCC',\n",
       "   'ALT': 'A',\n",
       "   'STR': \"17:41197805:ACATCTGCC:['A']\"},\n",
       "  'ExonInterval': {'isLast': False,\n",
       "   'isFirst': False,\n",
       "   'order': 8,\n",
       "   'name': 'ENSE00002914501',\n",
       "   'gene_id': 'ENSG00000012048',\n",
       "   'Exon_Start': 41197580,\n",
       "   'Exon_End': 41197819,\n",
       "   'intronl_len': 50,\n",
       "   'intronr_len': 10,\n",
       "   'seqid': '17',\n",
       "   'strand': '-',\n",
       "   'start': 41197570,\n",
       "   'end': 41197869},\n",
       "  'annotation': '17_41197580_41197819:-'}}"
      ]
     },
     "execution_count": 4,
     "metadata": {},
     "output_type": "execute_result"
    }
   ],
   "source": [
    "next(dl)"
   ]
  },
  {
   "cell_type": "code",
   "execution_count": 5,
   "metadata": {},
   "outputs": [
    {
     "name": "stderr",
     "output_type": "stream",
     "text": [
      "/opt/modules/i12g/anaconda/3-5.0.1/envs/splicing/lib/python3.6/site-packages/keras/engine/saving.py:270: UserWarning: No training configuration found in save file: the model was *not* compiled. Compile it manually.\n",
      "  warnings.warn('No training configuration found in save file: '\n"
     ]
    }
   ],
   "source": [
    "model = MMSplice(\n",
    "    exon_cut_l=0,\n",
    "    exon_cut_r=0,\n",
    "    acceptor_intron_cut=6,\n",
    "    donor_intron_cut=6,\n",
    "    acceptor_intron_len=50,\n",
    "    acceptor_exon_len=3,\n",
    "    donor_exon_len=5,\n",
    "    donor_intron_len=13)"
   ]
  },
  {
   "cell_type": "code",
   "execution_count": 6,
   "metadata": {},
   "outputs": [
    {
     "name": "stderr",
     "output_type": "stream",
     "text": [
      "0it [00:00, ?it/s]/opt/modules/i12g/anaconda/3-5.0.1/envs/splicing/lib/python3.6/site-packages/mmsplice-0.2.0-py3.6.egg/mmsplice/mmsplice.py:150: UserWarning: None GT donor\n",
      "  warnings.warn(\"None GT donor\", UserWarning)\n",
      "/opt/modules/i12g/anaconda/3-5.0.1/envs/splicing/lib/python3.6/site-packages/mmsplice-0.2.0-py3.6.egg/mmsplice/mmsplice.py:152: UserWarning: None AG donor\n",
      "  warnings.warn(\"None AG donor\", UserWarning)\n",
      "2it [00:33, 16.81s/it]\n"
     ]
    }
   ],
   "source": [
    "predictions = predict_all_table(model, dl, batch_size=1024, split_seq=False, assembly=True)"
   ]
  },
  {
   "cell_type": "code",
   "execution_count": 7,
   "metadata": {},
   "outputs": [],
   "source": [
    "predictionsMax = max_varEff(predictions)"
   ]
  },
  {
   "cell_type": "code",
   "execution_count": 8,
   "metadata": {},
   "outputs": [
    {
     "data": {
      "text/html": [
       "<div>\n",
       "<style scoped>\n",
       "    .dataframe tbody tr th:only-of-type {\n",
       "        vertical-align: middle;\n",
       "    }\n",
       "\n",
       "    .dataframe tbody tr th {\n",
       "        vertical-align: top;\n",
       "    }\n",
       "\n",
       "    .dataframe thead th {\n",
       "        text-align: right;\n",
       "    }\n",
       "</style>\n",
       "<table border=\"1\" class=\"dataframe\">\n",
       "  <thead>\n",
       "    <tr style=\"text-align: right;\">\n",
       "      <th></th>\n",
       "      <th>ID</th>\n",
       "      <th>mmsplice_diff</th>\n",
       "      <th>exons</th>\n",
       "    </tr>\n",
       "  </thead>\n",
       "  <tbody>\n",
       "    <tr>\n",
       "      <th>691</th>\n",
       "      <td>17:41245766:CATATTGCTTATACTGCTGCTTATAGGTTCAGCT...</td>\n",
       "      <td>-10.728961</td>\n",
       "      <td>17_41245603_41246877:-</td>\n",
       "    </tr>\n",
       "    <tr>\n",
       "      <th>104</th>\n",
       "      <td>17:41201134:TTAC:['T']</td>\n",
       "      <td>-8.857750</td>\n",
       "      <td>17_41201138_41201211:-</td>\n",
       "    </tr>\n",
       "    <tr>\n",
       "      <th>159</th>\n",
       "      <td>17:41203079:CCT:['ATGTTG']</td>\n",
       "      <td>-7.963199</td>\n",
       "      <td>17_41203080_41203134:-</td>\n",
       "    </tr>\n",
       "    <tr>\n",
       "      <th>511</th>\n",
       "      <td>17:41226345:TACCTAGATCTTGCCTTGGCAAGTAAGATGTTTC...</td>\n",
       "      <td>-7.602323</td>\n",
       "      <td>17_41226348_41226538:-</td>\n",
       "    </tr>\n",
       "    <tr>\n",
       "      <th>248</th>\n",
       "      <td>17:41215348:AC:['A']</td>\n",
       "      <td>-7.406505</td>\n",
       "      <td>17_41215350_41215390:-</td>\n",
       "    </tr>\n",
       "  </tbody>\n",
       "</table>\n",
       "</div>"
      ],
      "text/plain": [
       "                                                    ID  mmsplice_diff  \\\n",
       "691  17:41245766:CATATTGCTTATACTGCTGCTTATAGGTTCAGCT...     -10.728961   \n",
       "104                             17:41201134:TTAC:['T']      -8.857750   \n",
       "159                         17:41203079:CCT:['ATGTTG']      -7.963199   \n",
       "511  17:41226345:TACCTAGATCTTGCCTTGGCAAGTAAGATGTTTC...      -7.602323   \n",
       "248                               17:41215348:AC:['A']      -7.406505   \n",
       "\n",
       "                      exons  \n",
       "691  17_41245603_41246877:-  \n",
       "104  17_41201138_41201211:-  \n",
       "159  17_41203080_41203134:-  \n",
       "511  17_41226348_41226538:-  \n",
       "248  17_41215350_41215390:-  "
      ]
     },
     "execution_count": 8,
     "metadata": {},
     "output_type": "execute_result"
    }
   ],
   "source": [
    "predictionsMax.sort_values(['mmsplice_diff']).head()"
   ]
  },
  {
   "cell_type": "markdown",
   "metadata": {},
   "source": [
    "## Predict pathogenicity"
   ]
  },
  {
   "cell_type": "code",
   "execution_count": 9,
   "metadata": {},
   "outputs": [],
   "source": [
    "dl = SplicingVCFDataloader(gtfIntervalTree, \n",
    "                          fasta,\n",
    "                          vcf,\n",
    "                          out_file=gtfIntervalTree,\n",
    "                          split_seq=False, overhang=(50,10))"
   ]
  },
  {
   "cell_type": "code",
   "execution_count": 10,
   "metadata": {},
   "outputs": [
    {
     "name": "stderr",
     "output_type": "stream",
     "text": [
      "0it [00:00, ?it/s]/opt/modules/i12g/anaconda/3-5.0.1/envs/splicing/lib/python3.6/site-packages/mmsplice-0.2.0-py3.6.egg/mmsplice/mmsplice.py:150: UserWarning: None GT donor\n",
      "  warnings.warn(\"None GT donor\", UserWarning)\n",
      "/opt/modules/i12g/anaconda/3-5.0.1/envs/splicing/lib/python3.6/site-packages/mmsplice-0.2.0-py3.6.egg/mmsplice/mmsplice.py:152: UserWarning: None AG donor\n",
      "  warnings.warn(\"None AG donor\", UserWarning)\n",
      "2it [00:32, 16.21s/it]\n"
     ]
    }
   ],
   "source": [
    "predictions = predict_all_table(model, dl, batch_size=1024, split_seq=False, assembly=True, pathogenicity=True)"
   ]
  },
  {
   "cell_type": "code",
   "execution_count": 11,
   "metadata": {},
   "outputs": [],
   "source": [
    "predictionsMax = max_varEff(predictions)"
   ]
  },
  {
   "cell_type": "code",
   "execution_count": 12,
   "metadata": {},
   "outputs": [
    {
     "data": {
      "text/html": [
       "<div>\n",
       "<style scoped>\n",
       "    .dataframe tbody tr th:only-of-type {\n",
       "        vertical-align: middle;\n",
       "    }\n",
       "\n",
       "    .dataframe tbody tr th {\n",
       "        vertical-align: top;\n",
       "    }\n",
       "\n",
       "    .dataframe thead th {\n",
       "        text-align: right;\n",
       "    }\n",
       "</style>\n",
       "<table border=\"1\" class=\"dataframe\">\n",
       "  <thead>\n",
       "    <tr style=\"text-align: right;\">\n",
       "      <th></th>\n",
       "      <th>ID</th>\n",
       "      <th>mmsplice_diff</th>\n",
       "      <th>exons</th>\n",
       "    </tr>\n",
       "  </thead>\n",
       "  <tbody>\n",
       "    <tr>\n",
       "      <th>577</th>\n",
       "      <td>17:41245766:CATATTGCTTATACTGCTGCTTATAGGTTCAGCT...</td>\n",
       "      <td>1.0</td>\n",
       "      <td>17_41243115_41246877:-</td>\n",
       "    </tr>\n",
       "    <tr>\n",
       "      <th>230</th>\n",
       "      <td>17:41215387:ACCCCTAAAGAGATCATAGA:['TATT']</td>\n",
       "      <td>1.0</td>\n",
       "      <td>17_41215377_41215390:-</td>\n",
       "    </tr>\n",
       "    <tr>\n",
       "      <th>712</th>\n",
       "      <td>17:41251814:CTTTTGAGGTTGTATCCGCTGCTTTGTCCTCAGA...</td>\n",
       "      <td>1.0</td>\n",
       "      <td>17_41251792_41251894:-</td>\n",
       "    </tr>\n",
       "    <tr>\n",
       "      <th>771</th>\n",
       "      <td>17:41256281:G:['C']</td>\n",
       "      <td>1.0</td>\n",
       "      <td>17_41256206_41256278:-</td>\n",
       "    </tr>\n",
       "    <tr>\n",
       "      <th>203</th>\n",
       "      <td>17:41215348:AC:['A']</td>\n",
       "      <td>1.0</td>\n",
       "      <td>17_41215350_41215390:-</td>\n",
       "    </tr>\n",
       "  </tbody>\n",
       "</table>\n",
       "</div>"
      ],
      "text/plain": [
       "                                                    ID  mmsplice_diff  \\\n",
       "577  17:41245766:CATATTGCTTATACTGCTGCTTATAGGTTCAGCT...            1.0   \n",
       "230          17:41215387:ACCCCTAAAGAGATCATAGA:['TATT']            1.0   \n",
       "712  17:41251814:CTTTTGAGGTTGTATCCGCTGCTTTGTCCTCAGA...            1.0   \n",
       "771                                17:41256281:G:['C']            1.0   \n",
       "203                               17:41215348:AC:['A']            1.0   \n",
       "\n",
       "                      exons  \n",
       "577  17_41243115_41246877:-  \n",
       "230  17_41215377_41215390:-  \n",
       "712  17_41251792_41251894:-  \n",
       "771  17_41256206_41256278:-  \n",
       "203  17_41215350_41215390:-  "
      ]
     },
     "execution_count": 12,
     "metadata": {},
     "output_type": "execute_result"
    }
   ],
   "source": [
    "predictionsMax.sort_values('mmsplice_diff', ascending=False).head()"
   ]
  }
 ],
 "metadata": {
  "kernelspec": {
   "display_name": "Python [conda env:splicing]",
   "language": "python",
   "name": "conda-env-splicing-py"
  },
  "language_info": {
   "codemirror_mode": {
    "name": "ipython",
    "version": 3
   },
   "file_extension": ".py",
   "mimetype": "text/x-python",
   "name": "python",
   "nbconvert_exporter": "python",
   "pygments_lexer": "ipython3",
   "version": "3.6.0"
  }
 },
 "nbformat": 4,
 "nbformat_minor": 2
}

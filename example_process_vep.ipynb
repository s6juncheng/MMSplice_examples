{
 "cells": [
  {
   "cell_type": "markdown",
   "metadata": {},
   "source": [
    "## Test VEP results"
   ]
  },
  {
   "cell_type": "code",
   "execution_count": 1,
   "metadata": {},
   "outputs": [
    {
     "name": "stderr",
     "output_type": "stream",
     "text": [
      "Using TensorFlow backend.\n",
      "/opt/modules/i12g/anaconda/3-5.0.1/envs/mmsplice_dev/lib/python3.6/site-packages/sklearn/base.py:251: UserWarning: Trying to unpickle estimator HuberRegressor from version 0.19.2 when using version 0.20.0. This might lead to breaking code or invalid results. Use at your own risk.\n",
      "  UserWarning)\n",
      "/opt/modules/i12g/anaconda/3-5.0.1/envs/mmsplice_dev/lib/python3.6/site-packages/sklearn/base.py:251: UserWarning: Trying to unpickle estimator StandardScaler from version 0.19.2 when using version 0.20.0. This might lead to breaking code or invalid results. Use at your own risk.\n",
      "  UserWarning)\n",
      "/opt/modules/i12g/anaconda/3-5.0.1/envs/mmsplice_dev/lib/python3.6/site-packages/sklearn/base.py:251: UserWarning: Trying to unpickle estimator LogisticRegression from version 0.19.2 when using version 0.20.0. This might lead to breaking code or invalid results. Use at your own risk.\n",
      "  UserWarning)\n",
      "/opt/modules/i12g/anaconda/3-5.0.1/envs/mmsplice_dev/lib/python3.6/site-packages/sklearn/base.py:251: UserWarning: Trying to unpickle estimator Pipeline from version 0.19.2 when using version 0.20.0. This might lead to breaking code or invalid results. Use at your own risk.\n",
      "  UserWarning)\n"
     ]
    },
    {
     "data": {
      "text/plain": [
       "'0.2.7'"
      ]
     },
     "execution_count": 1,
     "metadata": {},
     "output_type": "execute_result"
    }
   ],
   "source": [
    "import mmsplice\n",
    "mmsplice.__version__"
   ]
  },
  {
   "cell_type": "code",
   "execution_count": 2,
   "metadata": {},
   "outputs": [],
   "source": [
    "from kipoi_veff.parsers import KipoiVCFParser"
   ]
  },
  {
   "cell_type": "code",
   "execution_count": 3,
   "metadata": {},
   "outputs": [],
   "source": [
    "import pandas as pd\n",
    "import numpy as np\n",
    "import matplotlib.pyplot as plt\n",
    "\n",
    "from mmsplice.utils import read_vep"
   ]
  },
  {
   "cell_type": "code",
   "execution_count": 4,
   "metadata": {},
   "outputs": [],
   "source": [
    "input_file = 'variant_effect_output.txt'"
   ]
  },
  {
   "cell_type": "code",
   "execution_count": 5,
   "metadata": {},
   "outputs": [],
   "source": [
    "df = pd.DataFrame(list(KipoiVCFParser(input_file)))"
   ]
  },
  {
   "cell_type": "code",
   "execution_count": 6,
   "metadata": {},
   "outputs": [],
   "source": [
    "df['ID'] = df.variant_chr + ':' + df.variant_pos.map(str) + ':' + df.variant_ref + \":['\" + df.variant_alt + \"']\""
   ]
  },
  {
   "cell_type": "code",
   "execution_count": 7,
   "metadata": {},
   "outputs": [],
   "source": [
    "df = df[['ID', 'other_CLNSIG']]"
   ]
  },
  {
   "cell_type": "code",
   "execution_count": 8,
   "metadata": {},
   "outputs": [],
   "source": [
    "pred = read_vep(input_file, max_per_var=True)"
   ]
  },
  {
   "cell_type": "code",
   "execution_count": 9,
   "metadata": {},
   "outputs": [],
   "source": [
    "pred = pred.merge(df, on='ID')"
   ]
  },
  {
   "cell_type": "code",
   "execution_count": 10,
   "metadata": {},
   "outputs": [
    {
     "data": {
      "text/html": [
       "<div>\n",
       "<style scoped>\n",
       "    .dataframe tbody tr th:only-of-type {\n",
       "        vertical-align: middle;\n",
       "    }\n",
       "\n",
       "    .dataframe tbody tr th {\n",
       "        vertical-align: top;\n",
       "    }\n",
       "\n",
       "    .dataframe thead th {\n",
       "        text-align: right;\n",
       "    }\n",
       "</style>\n",
       "<table border=\"1\" class=\"dataframe\">\n",
       "  <thead>\n",
       "    <tr style=\"text-align: right;\">\n",
       "      <th></th>\n",
       "      <th>mmsplice_dlogitPsi</th>\n",
       "      <th>mmsplice_alt_acceptor</th>\n",
       "      <th>mmsplice_alt_acceptorIntron</th>\n",
       "      <th>mmsplice_alt_donor</th>\n",
       "      <th>mmsplice_alt_donorIntron</th>\n",
       "      <th>mmsplice_alt_exon</th>\n",
       "      <th>mmsplice_delta_logit_psi</th>\n",
       "      <th>mmsplice_pathogenicity</th>\n",
       "      <th>mmsplice_ref_acceptor</th>\n",
       "      <th>mmsplice_ref_acceptorIntron</th>\n",
       "      <th>mmsplice_ref_donor</th>\n",
       "      <th>mmsplice_ref_donorIntron</th>\n",
       "      <th>mmsplice_ref_exon</th>\n",
       "    </tr>\n",
       "  </thead>\n",
       "  <tbody>\n",
       "    <tr>\n",
       "      <th>count</th>\n",
       "      <td>4602.000000</td>\n",
       "      <td>4602.000000</td>\n",
       "      <td>4602.000000</td>\n",
       "      <td>4602.000000</td>\n",
       "      <td>4602.000000</td>\n",
       "      <td>4602.000000</td>\n",
       "      <td>4602.000000</td>\n",
       "      <td>4.602000e+03</td>\n",
       "      <td>4602.000000</td>\n",
       "      <td>4602.000000</td>\n",
       "      <td>4602.000000</td>\n",
       "      <td>4602.000000</td>\n",
       "      <td>4602.000000</td>\n",
       "    </tr>\n",
       "    <tr>\n",
       "      <th>mean</th>\n",
       "      <td>-3.047664</td>\n",
       "      <td>1.840225</td>\n",
       "      <td>-3.103388</td>\n",
       "      <td>0.808582</td>\n",
       "      <td>0.363904</td>\n",
       "      <td>-3.467712</td>\n",
       "      <td>-3.047664</td>\n",
       "      <td>9.740113e-01</td>\n",
       "      <td>3.156113</td>\n",
       "      <td>-3.103464</td>\n",
       "      <td>3.606895</td>\n",
       "      <td>0.363120</td>\n",
       "      <td>-3.467732</td>\n",
       "    </tr>\n",
       "    <tr>\n",
       "      <th>std</th>\n",
       "      <td>1.371865</td>\n",
       "      <td>2.435582</td>\n",
       "      <td>0.787310</td>\n",
       "      <td>3.037525</td>\n",
       "      <td>0.362409</td>\n",
       "      <td>0.782329</td>\n",
       "      <td>1.371865</td>\n",
       "      <td>1.280550e-01</td>\n",
       "      <td>2.130352</td>\n",
       "      <td>0.787336</td>\n",
       "      <td>1.964527</td>\n",
       "      <td>0.363061</td>\n",
       "      <td>0.782278</td>\n",
       "    </tr>\n",
       "    <tr>\n",
       "      <th>min</th>\n",
       "      <td>-7.195271</td>\n",
       "      <td>-9.361466</td>\n",
       "      <td>-5.975063</td>\n",
       "      <td>-5.914912</td>\n",
       "      <td>-1.164159</td>\n",
       "      <td>-7.653551</td>\n",
       "      <td>-7.195271</td>\n",
       "      <td>8.683932e-08</td>\n",
       "      <td>-9.361466</td>\n",
       "      <td>-5.975063</td>\n",
       "      <td>-5.914912</td>\n",
       "      <td>-1.164159</td>\n",
       "      <td>-7.653551</td>\n",
       "    </tr>\n",
       "    <tr>\n",
       "      <th>25%</th>\n",
       "      <td>-3.934646</td>\n",
       "      <td>0.155364</td>\n",
       "      <td>-3.707661</td>\n",
       "      <td>-1.620290</td>\n",
       "      <td>0.110853</td>\n",
       "      <td>-3.962902</td>\n",
       "      <td>-3.934646</td>\n",
       "      <td>9.998760e-01</td>\n",
       "      <td>2.104494</td>\n",
       "      <td>-3.709394</td>\n",
       "      <td>2.802889</td>\n",
       "      <td>0.108303</td>\n",
       "      <td>-3.964111</td>\n",
       "    </tr>\n",
       "    <tr>\n",
       "      <th>50%</th>\n",
       "      <td>-2.991229</td>\n",
       "      <td>1.927961</td>\n",
       "      <td>-2.920786</td>\n",
       "      <td>0.282730</td>\n",
       "      <td>0.397828</td>\n",
       "      <td>-3.429325</td>\n",
       "      <td>-2.991229</td>\n",
       "      <td>9.999899e-01</td>\n",
       "      <td>3.345858</td>\n",
       "      <td>-2.919610</td>\n",
       "      <td>3.787192</td>\n",
       "      <td>0.396787</td>\n",
       "      <td>-3.429325</td>\n",
       "    </tr>\n",
       "    <tr>\n",
       "      <th>75%</th>\n",
       "      <td>-2.162654</td>\n",
       "      <td>3.624514</td>\n",
       "      <td>-2.474856</td>\n",
       "      <td>3.500847</td>\n",
       "      <td>0.645265</td>\n",
       "      <td>-2.925293</td>\n",
       "      <td>-2.162654</td>\n",
       "      <td>9.999987e-01</td>\n",
       "      <td>4.499015</td>\n",
       "      <td>-2.474856</td>\n",
       "      <td>4.778851</td>\n",
       "      <td>0.645557</td>\n",
       "      <td>-2.925293</td>\n",
       "    </tr>\n",
       "    <tr>\n",
       "      <th>max</th>\n",
       "      <td>4.352935</td>\n",
       "      <td>8.484281</td>\n",
       "      <td>-1.441578</td>\n",
       "      <td>8.360686</td>\n",
       "      <td>1.439749</td>\n",
       "      <td>-1.056427</td>\n",
       "      <td>4.352935</td>\n",
       "      <td>1.000000e+00</td>\n",
       "      <td>8.585599</td>\n",
       "      <td>-1.441578</td>\n",
       "      <td>8.360686</td>\n",
       "      <td>1.439749</td>\n",
       "      <td>-1.056427</td>\n",
       "    </tr>\n",
       "  </tbody>\n",
       "</table>\n",
       "</div>"
      ],
      "text/plain": [
       "       mmsplice_dlogitPsi  mmsplice_alt_acceptor  mmsplice_alt_acceptorIntron  \\\n",
       "count         4602.000000            4602.000000                  4602.000000   \n",
       "mean            -3.047664               1.840225                    -3.103388   \n",
       "std              1.371865               2.435582                     0.787310   \n",
       "min             -7.195271              -9.361466                    -5.975063   \n",
       "25%             -3.934646               0.155364                    -3.707661   \n",
       "50%             -2.991229               1.927961                    -2.920786   \n",
       "75%             -2.162654               3.624514                    -2.474856   \n",
       "max              4.352935               8.484281                    -1.441578   \n",
       "\n",
       "       mmsplice_alt_donor  mmsplice_alt_donorIntron  mmsplice_alt_exon  \\\n",
       "count         4602.000000               4602.000000        4602.000000   \n",
       "mean             0.808582                  0.363904          -3.467712   \n",
       "std              3.037525                  0.362409           0.782329   \n",
       "min             -5.914912                 -1.164159          -7.653551   \n",
       "25%             -1.620290                  0.110853          -3.962902   \n",
       "50%              0.282730                  0.397828          -3.429325   \n",
       "75%              3.500847                  0.645265          -2.925293   \n",
       "max              8.360686                  1.439749          -1.056427   \n",
       "\n",
       "       mmsplice_delta_logit_psi  mmsplice_pathogenicity  \\\n",
       "count               4602.000000            4.602000e+03   \n",
       "mean                  -3.047664            9.740113e-01   \n",
       "std                    1.371865            1.280550e-01   \n",
       "min                   -7.195271            8.683932e-08   \n",
       "25%                   -3.934646            9.998760e-01   \n",
       "50%                   -2.991229            9.999899e-01   \n",
       "75%                   -2.162654            9.999987e-01   \n",
       "max                    4.352935            1.000000e+00   \n",
       "\n",
       "       mmsplice_ref_acceptor  mmsplice_ref_acceptorIntron  mmsplice_ref_donor  \\\n",
       "count            4602.000000                  4602.000000         4602.000000   \n",
       "mean                3.156113                    -3.103464            3.606895   \n",
       "std                 2.130352                     0.787336            1.964527   \n",
       "min                -9.361466                    -5.975063           -5.914912   \n",
       "25%                 2.104494                    -3.709394            2.802889   \n",
       "50%                 3.345858                    -2.919610            3.787192   \n",
       "75%                 4.499015                    -2.474856            4.778851   \n",
       "max                 8.585599                    -1.441578            8.360686   \n",
       "\n",
       "       mmsplice_ref_donorIntron  mmsplice_ref_exon  \n",
       "count               4602.000000        4602.000000  \n",
       "mean                   0.363120          -3.467732  \n",
       "std                    0.363061           0.782278  \n",
       "min                   -1.164159          -7.653551  \n",
       "25%                    0.108303          -3.964111  \n",
       "50%                    0.396787          -3.429325  \n",
       "75%                    0.645557          -2.925293  \n",
       "max                    1.439749          -1.056427  "
      ]
     },
     "execution_count": 10,
     "metadata": {},
     "output_type": "execute_result"
    }
   ],
   "source": [
    "pred.describe()"
   ]
  },
  {
   "cell_type": "code",
   "execution_count": 11,
   "metadata": {},
   "outputs": [
    {
     "data": {
      "image/png": "[encoded data removed]",
      "text/plain": [
       "<Figure size 432x288 with 1 Axes>"
      ]
     },
     "metadata": {
      "needs_background": "light"
     },
     "output_type": "display_data"
    }
   ],
   "source": [
    "plt.hist(pred.mmsplice_dlogitPsi)\n",
    "plt.show()"
   ]
  },
  {
   "cell_type": "code",
   "execution_count": null,
   "metadata": {},
   "outputs": [],
   "source": []
  }
 ],
 "metadata": {
  "kernelspec": {
   "display_name": "Python [conda env:mmsplice_dev]",
   "language": "python",
   "name": "conda-env-mmsplice_dev-py"
  },
  "language_info": {
   "codemirror_mode": {
    "name": "ipython",
    "version": 3
   },
   "file_extension": ".py",
   "mimetype": "text/x-python",
   "name": "python",
   "nbconvert_exporter": "python",
   "pygments_lexer": "ipython3",
   "version": "3.6.7"
  }
 },
 "nbformat": 4,
 "nbformat_minor": 2
}
